{
 "cells": [
  {
   "cell_type": "markdown",
   "id": "ba8765d275122cdc",
   "metadata": {},
   "source": [
    "# Seminarul 1\n",
    "Sirul Fibonacci in Python\n",
    "1. fib_1(n)\n",
    "2. fib_2(n)\n",
    "3. fib_r(n)\n",
    "Secventa de numere in care fiecare numar este suma celor doua numere anterioare. Secventa incepe cu 0 si 1"
   ]
  },
  {
   "cell_type": "code",
   "id": "c6b383af-8496-4cce-b8e9-3bd868af9d56",
   "metadata": {
    "ExecuteTime": {
     "end_time": "2025-03-03T22:25:34.609898Z",
     "start_time": "2025-03-03T22:25:34.413901Z"
    }
   },
   "source": [
    "import numpy as np # importam libraria numpy pt. vectori si matrici\n",
    "import matplotlib.pyplot as grafic # importam libraria matplotlib pentru a reprezenta grafic\n",
    "import time # importam libraria time pt. a vedea cat de rapid este codul"
   ],
   "outputs": [],
   "execution_count": 62
  },
  {
   "metadata": {
    "ExecuteTime": {
     "end_time": "2025-03-03T20:15:53.129273Z",
     "start_time": "2025-03-03T20:15:53.125809Z"
    }
   },
   "cell_type": "code",
   "source": [
    "def fib_1(n):\n",
    "    \"\"\"\n",
    "    calcularea primilor n (+1) termeni ai sirului Fibonacci intr-un vector\n",
    "    :param n - indicele ultimului termen calculat\n",
    "    :return vector - vectorul termenilor calculati\n",
    "    \"\"\"\n",
    "\n",
    "    vector = np.zeros(n + 1, dtype=int) # se creeaza un vector de n+1 elemente, toate initializate cu 0\n",
    "    vector[0], vector[1] = 0, 1 # initializam primele doua elemente cu 0 si 1 (definitia sirului Fibonacci)\n",
    "    for i in range(2, n + 1): # pana la n+1 deoarece in functia range parametrul \"stop\" este exclusiv\n",
    "        vector[i] = vector[i - 1] + vector[i - 2]\n",
    "    return vector\n",
    "\n",
    "fib_1(15) # exemplu apel"
   ],
   "id": "fd57be58cba94c30",
   "outputs": [
    {
     "data": {
      "text/plain": [
       "array([  0,   1,   1,   2,   3,   5,   8,  13,  21,  34,  55,  89, 144,\n",
       "       233, 377, 610])"
      ]
     },
     "execution_count": 17,
     "metadata": {},
     "output_type": "execute_result"
    }
   ],
   "execution_count": 17
  },
  {
   "metadata": {
    "ExecuteTime": {
     "end_time": "2025-03-03T20:15:46.218650Z",
     "start_time": "2025-03-03T20:15:46.215246Z"
    }
   },
   "cell_type": "code",
   "source": [
    "def fib_2(n):\n",
    "    \"\"\"\n",
    "    calcularea primilor n (+1) termeni ai sirului Fibonacci intr-o lista\n",
    "    :param n - indicele ultimului termen calculat\n",
    "    :return vector - lista termenilor calculati\n",
    "    \"\"\"\n",
    "\n",
    "    vector = [0, 1]\n",
    "    for i in range(2, n + 1):\n",
    "        vector += [ vector[i - 1] + vector[i - 2] ] # concatenam lista initiala cu o lista cu un singur element\n",
    "    return vector\n",
    "\n",
    "fib_2(15) # exemplu apel"
   ],
   "id": "7d7c8a7cba4cc27e",
   "outputs": [
    {
     "data": {
      "text/plain": [
       "[0, 1, 1, 2, 3, 5, 8, 13, 21, 34, 55, 89, 144, 233, 377, 610]"
      ]
     },
     "execution_count": 16,
     "metadata": {},
     "output_type": "execute_result"
    }
   ],
   "execution_count": 16
  },
  {
   "metadata": {
    "ExecuteTime": {
     "end_time": "2025-03-03T20:15:41.129635Z",
     "start_time": "2025-03-03T20:15:41.126252Z"
    }
   },
   "cell_type": "code",
   "source": [
    "def fib_r(n):\n",
    "    \"\"\"\n",
    "    calcularea termenului n din sirul Fibonacci recursiv\n",
    "    :param n - indicele termenului de calculat\n",
    "    :return r - valoarea ultimului termen\n",
    "    \"\"\"\n",
    "    if n == 0:\n",
    "        r = 0 # daca indicele termenului este 0 si valoarea respectiva indicelui este 0\n",
    "    elif n == 1:\n",
    "        r = 1 # la fel si pentru indicele 1\n",
    "    else:\n",
    "        r = fib_r(n - 1) + fib_r(n - 2)\n",
    "    return r\n",
    "\n",
    "fib_r(15) # exemplu apel"
   ],
   "id": "e219698697b7c414",
   "outputs": [
    {
     "data": {
      "text/plain": [
       "610"
      ]
     },
     "execution_count": 15,
     "metadata": {},
     "output_type": "execute_result"
    }
   ],
   "execution_count": 15
  },
  {
   "metadata": {},
   "cell_type": "markdown",
   "source": "Compararea performantei",
   "id": "afc0732a0b991bc6"
  },
  {
   "metadata": {
    "ExecuteTime": {
     "end_time": "2025-03-03T22:25:44.303828Z",
     "start_time": "2025-03-03T22:25:41.270135Z"
    }
   },
   "cell_type": "code",
   "source": [
    "%%timeit\n",
    "fib_1(30)"
   ],
   "id": "31917909cf3d09f2",
   "outputs": [
    {
     "name": "stdout",
     "output_type": "stream",
     "text": [
      "3.74 μs ± 98.2 ns per loop (mean ± std. dev. of 7 runs, 100,000 loops each)\n"
     ]
    }
   ],
   "execution_count": 63
  },
  {
   "metadata": {
    "ExecuteTime": {
     "end_time": "2025-03-03T20:20:03.422622Z",
     "start_time": "2025-03-03T20:19:52.348849Z"
    }
   },
   "cell_type": "code",
   "source": [
    "%%timeit\n",
    "fib_2(30)"
   ],
   "id": "8541e987c6c49b77",
   "outputs": [
    {
     "name": "stdout",
     "output_type": "stream",
     "text": [
      "1.37 μs ± 36.3 ns per loop (mean ± std. dev. of 7 runs, 1,000,000 loops each)\n"
     ]
    }
   ],
   "execution_count": 22
  },
  {
   "metadata": {
    "ExecuteTime": {
     "end_time": "2025-03-03T20:19:52.338374Z",
     "start_time": "2025-03-03T20:19:44.400302Z"
    }
   },
   "cell_type": "code",
   "source": [
    "%%timeit\n",
    "fib_r(30)"
   ],
   "id": "b9bed68acbbc9d7",
   "outputs": [
    {
     "name": "stdout",
     "output_type": "stream",
     "text": [
      "97.8 ms ± 574 μs per loop (mean ± std. dev. of 7 runs, 10 loops each)\n"
     ]
    }
   ],
   "execution_count": 21
  },
  {
   "metadata": {},
   "cell_type": "markdown",
   "source": "Liste comprehensive",
   "id": "650245743c3d6e55"
  },
  {
   "metadata": {
    "ExecuteTime": {
     "end_time": "2025-03-03T20:22:47.134711Z",
     "start_time": "2025-03-03T20:22:47.131960Z"
    }
   },
   "cell_type": "code",
   "source": [
    "# progresie aritmetica a, b cu o ratie r\n",
    "a, b, r = 10, 20, 2 # progresie aritmetica de la 10 pana la 20 cu ratia 2\n",
    "progresie_aritmetica = [i for i in range(a, b + 1, r)] # pana la b + 1 pt. a il include si pe b\n",
    "print(progresie_aritmetica)"
   ],
   "id": "9fe07b69622cdee5",
   "outputs": [
    {
     "name": "stdout",
     "output_type": "stream",
     "text": [
      "[10, 12, 14, 16, 18, 20]\n"
     ]
    }
   ],
   "execution_count": 24
  },
  {
   "metadata": {
    "ExecuteTime": {
     "end_time": "2025-03-03T20:27:30.270404Z",
     "start_time": "2025-03-03T20:27:30.267668Z"
    }
   },
   "cell_type": "code",
   "source": [
    "# elementele divizibile cu k dintr-o lista\n",
    "lista_elemente = [i for i in range(1, 51)] # o lista cu elemente de la 1 la 50\n",
    "k = 5\n",
    "lista_elemente_div = [i for i in lista_elemente if i % k == 0] # punem i in lista daca rezultatul i mod k este egal cu 0\n",
    "print(lista_elemente_div)"
   ],
   "id": "d937f841e1a429bb",
   "outputs": [
    {
     "name": "stdout",
     "output_type": "stream",
     "text": [
      "[5, 10, 15, 20, 25, 30, 35, 40, 45, 50]\n"
     ]
    }
   ],
   "execution_count": 27
  },
  {
   "metadata": {
    "ExecuteTime": {
     "end_time": "2025-03-03T20:29:08.526310Z",
     "start_time": "2025-03-03T20:29:08.523136Z"
    }
   },
   "cell_type": "code",
   "source": [
    "# valoarea maxima dintr-o lista si pozitia (indexul) acesteia\n",
    "\n",
    "lista_elemente_random = [0, 5, 15, -30, 22]\n",
    "valoare_maxima = max(lista_elemente_random)\n",
    "pozitie_valoare_maxima = lista_elemente_random.index(valoare_maxima) # indecsii incep de la 0\n",
    "print(lista_elemente_random)\n",
    "print(valoare_maxima)\n",
    "print(pozitie_valoare_maxima)"
   ],
   "id": "f66c3335f683f4ac",
   "outputs": [
    {
     "name": "stdout",
     "output_type": "stream",
     "text": [
      "[0, 5, 15, -30, 22]\n",
      "22\n",
      "4\n"
     ]
    }
   ],
   "execution_count": 28
  },
  {
   "metadata": {
    "ExecuteTime": {
     "end_time": "2025-03-03T20:34:04.275037Z",
     "start_time": "2025-03-03T20:34:04.272645Z"
    }
   },
   "cell_type": "code",
   "source": [
    "# toate pozitiile unde apare un anumit element\n",
    "\n",
    "lista_t = [1, 2, 3, 0, 1, 2, 4, 1, 5, 1, 6, 7]\n",
    "toate_pozitile = [i for i, j in enumerate(lista_t) if j == 1] # enumerate ofera si indexul (i) cat si elementul (j) cand iteram\n",
    "print(toate_pozitile)"
   ],
   "id": "4c4f09bb1ccce46d",
   "outputs": [
    {
     "name": "stdout",
     "output_type": "stream",
     "text": [
      "[0, 4, 7, 9]\n"
     ]
    }
   ],
   "execution_count": 38
  },
  {
   "metadata": {
    "ExecuteTime": {
     "end_time": "2025-03-03T20:46:56.624196Z",
     "start_time": "2025-03-03T20:46:56.621403Z"
    }
   },
   "cell_type": "code",
   "source": [
    "# diviziunea (impartirea unui interval in subintervale)\n",
    "\n",
    "pas = 1\n",
    "subinterval = [1 + i * pas for i in range(100) if 1 + i * pas <= 10]\n",
    "print(subinterval)\n",
    "\n",
    "# varianta normala\n",
    "subinterval2 = np.arange(1, 10, 1)\n",
    "print(subinterval2)"
   ],
   "id": "72c8a2e04914b231",
   "outputs": [
    {
     "name": "stdout",
     "output_type": "stream",
     "text": [
      "[1, 2, 3, 4, 5, 6, 7, 8, 9, 10]\n",
      "[1 2 3 4 5 6 7 8 9]\n"
     ]
    }
   ],
   "execution_count": 61
  },
  {
   "metadata": {},
   "cell_type": "markdown",
   "source": "Problema celor N regine",
   "id": "b25d8e3969fcd845"
  },
  {
   "metadata": {
    "ExecuteTime": {
     "end_time": "2025-03-03T22:33:24.256698Z",
     "start_time": "2025-03-03T22:33:22.614389Z"
    }
   },
   "cell_type": "code",
   "source": [
    "def regine(n):\n",
    "    \"\"\"\n",
    "    metoda iterativa\n",
    "    :param n - nr de regine si dimensiunea tablei de sah\n",
    "    :return solutii_gasite - nr de solutii gasite\n",
    "    \"\"\"\n",
    "\n",
    "    x = [0] * n # vector de lungine n\n",
    "    solutii_gasite = 0 # contor pt. solutiile gasite\n",
    "    i = 0 # indicele randului curent\n",
    "    x[i] = -1 # setam prima pozitie pe o valoarea sub 0 pt. control\n",
    "\n",
    "    while i > -1: # bucla principala a algoritmului; continuam cat timp nu am ajuns la o revenire finala\n",
    "        gasit = False # presupunem  ca nu am gasit inca o solutie valida\n",
    "        while x[i] < n - 1 and not gasit: # daca x[i] == n - 1 inseamna ca suntem pe ultima coloana\n",
    "            x[i] = x[i] + 1\n",
    "            gasit = posibil(x, i)\n",
    "        if not gasit:\n",
    "            i = i - 1 # revenim la randul anterior\n",
    "        else:\n",
    "            if i == n - 1: # daca i == n - 1 inseamna ca am plasat toate reginele\n",
    "                solutii_gasite += 1 # crestem contorul\n",
    "                retine_solutia(solutii_gasite, x)\n",
    "            else:\n",
    "                i = i + 1 # trecem la urmatorul rand\n",
    "                x[i] = -1 # resetam pozitia pt. urmatoarea regina\n",
    "    return solutii_gasite\n",
    "\n",
    "def posibil(x, i):\n",
    "    \"\"\"\n",
    "    verifica daca plasarea reginei pe coloana i este valida\n",
    "    :param x - o lista cu solutia partiala\n",
    "    :param i - indicele coloanei unde incarcam sa plasam o noua regina\n",
    "    :return sol_valida - daca solutia gasita este valida\n",
    "    \"\"\"\n",
    "    sol_valida = True # presupunem ca solutia e acceptabila\n",
    "    for j in range(i):\n",
    "        if (x[i] == x[j]) or (abs(i - j) == abs(x[i] - x[j])):\n",
    "            # daca x[i] == x[j] verificam daca doua regine sunt pe aceeasi linie\n",
    "            # daca i - j == x[i] - x[j] verificam daca doua regine sunt pe aceeasi diagonala\n",
    "            sol_valida = False # solutia este gresita\n",
    "    return sol_valida\n",
    "\n",
    "def retine_solutia(solutii_gasite, solutia):\n",
    "    \"\"\"\n",
    "    retine si afiseaza solutia\n",
    "    :param solutii_gasite - numarul solutiei curente\n",
    "    :param solutia - o lista cu solutia\n",
    "    :return nimic/graficul si solutiile\n",
    "    \"\"\"\n",
    "\n",
    "    print(f'Solutia numarul {solutii_gasite} : {solutia} ')\n",
    "    nr_regine = len(solutia) # numarul de regine (si dimensiunea tabelei)\n",
    "    figura = grafic.figure(1) # creeaza o figura noua\n",
    "    sistem_axe = figura.gca() # obtine sistemul de axe al graficului\n",
    "    coord_x = [i + 0.5 for i in range(nr_regine)] # coloane\n",
    "    coord_y = [solutia[i] + 0.05 for i in range(nr_regine)] # linii; adaugam 0.5 pt. ca punctele sa fie centrate in patrate\n",
    "    grafic.plot(coord_x, coord_y, 'r*', markersize = 10) # deseneaza reginele ca stele rosii cu marimea 10\n",
    "    grafic.xticks(range(nr_regine + 1))\n",
    "    grafic.yticks(range(nr_regine + 1))\n",
    "    grafic.grid(True, which='both', color='k', linestyle='-', linewidth=1)\n",
    "    sistem_axe.set_aspect('equal')\n",
    "    grafic.title('Solutia nr. ' +str(solutii_gasite))\n",
    "    grafic.ion()\n",
    "    grafic.pause(0.0000001)\n",
    "\n",
    "    input('Apasa <Enter> pentru a continua')\n",
    "    figura.clear()\n",
    "\n",
    "regine(4) # exemplu apel"
   ],
   "id": "e68d2fbb5207c0c6",
   "outputs": [
    {
     "name": "stdout",
     "output_type": "stream",
     "text": [
      "Solutia numarul 1 : [1, 3, 0, 2] \n"
     ]
    },
    {
     "data": {
      "text/plain": [
       "<Figure size 640x480 with 1 Axes>"
      ],
      "image/png": "[encoded data removed]"
     },
     "metadata": {},
     "output_type": "display_data"
    },
    {
     "name": "stdout",
     "output_type": "stream",
     "text": [
      "Solutia numarul 2 : [2, 0, 3, 1] \n"
     ]
    },
    {
     "data": {
      "text/plain": [
       "<Figure size 640x480 with 1 Axes>"
      ],
      "image/png": "[encoded data removed]"
     },
     "metadata": {},
     "output_type": "display_data"
    },
    {
     "data": {
      "text/plain": [
       "2"
      ]
     },
     "execution_count": 74,
     "metadata": {},
     "output_type": "execute_result"
    }
   ],
   "execution_count": 74
  }
 ],
 "metadata": {
  "kernelspec": {
   "display_name": "Python 3 (ipykernel)",
   "language": "python",
   "name": "python3"
  },
  "language_info": {
   "codemirror_mode": {
    "name": "ipython",
    "version": 3
   },
   "file_extension": ".py",
   "mimetype": "text/x-python",
   "name": "python",
   "nbconvert_exporter": "python",
   "pygments_lexer": "ipython3",
   "version": "3.13.2"
  }
 },
 "nbformat": 4,
 "nbformat_minor": 5
}
