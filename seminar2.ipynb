{
 "cells": [
  {
   "metadata": {},
   "cell_type": "markdown",
   "source": [
    "# Seminarul 2\n",
    "Algoritmul HillClimbing in Python\n",
    "1. O variabila int sau bit\n",
    "2. Doua variabile int sau bit\n",
    "3. Regine\n",
    "4. Problema rucsacului"
   ],
   "id": "379246c542a7456f"
  },
  {
   "metadata": {
    "ExecuteTime": {
     "end_time": "2025-03-09T21:12:58.518106Z",
     "start_time": "2025-03-09T21:12:58.515654Z"
    }
   },
   "cell_type": "code",
   "source": [
    "import numpy as np\n",
    "from math import sin, cos\n",
    "import matplotlib.pyplot as grafic"
   ],
   "id": "345df7ae01d29496",
   "outputs": [],
   "execution_count": 7
  },
  {
   "metadata": {
    "ExecuteTime": {
     "end_time": "2025-03-09T21:15:30.104309Z",
     "start_time": "2025-03-09T21:15:30.101849Z"
    }
   },
   "cell_type": "code",
   "source": [
    "def f_obiectiv(x):\n",
    "    \"\"\"\n",
    "    functia obiectiv pt. hillclimbing\n",
    "    :param x: punctul in care se calculeaza valoarea functiei\n",
    "    :return y: valoarea functiei in punctul x\n",
    "    \"\"\"\n",
    "\n",
    "    y = x**3 * sin(x/3) + x**3 * cos(2*x) -x*sin(3*x) + x*cos(x)\n",
    "\n",
    "    return y"
   ],
   "id": "165df8b879fd0ac1",
   "outputs": [],
   "execution_count": 17
  },
  {
   "metadata": {
    "ExecuteTime": {
     "end_time": "2025-03-09T21:15:28.729453Z",
     "start_time": "2025-03-09T21:15:28.726409Z"
    }
   },
   "cell_type": "code",
   "source": [
    "def calculare_vecini(x, nr_vecini_in_fiecare_parte, distanta_intre_vecini, capat_interval1, capat_interval2):\n",
    "    \"\"\"\n",
    "    calculeaza vecinii unui punct (pe o axa)\n",
    "    :param x: punctul curent\n",
    "    :param distanta_intre_vecini:\n",
    "    :param nr_vecini_in_fiecare_parte:\n",
    "    :param capat_interval1:\n",
    "    :param capat_interval2:\n",
    "    :return vecini, valori: doua liste: puncte si valori\n",
    "    \"\"\"\n",
    "\n",
    "    vecini = [x + i * distanta_intre_vecini  for i in range(-nr_vecini_in_fiecare_parte, nr_vecini_in_fiecare_parte + 1)\n",
    "              if ((x + i * distanta_intre_vecini >= capat_interval1)\n",
    "                  and (x + i * distanta_intre_vecini <= capat_interval2))]\n",
    "    valori = [f_obiectiv(x) for x in vecini]\n",
    "\n",
    "    return vecini, valori"
   ],
   "id": "28461fc34003dd5a",
   "outputs": [],
   "execution_count": 16
  },
  {
   "metadata": {
    "ExecuteTime": {
     "end_time": "2025-03-09T21:23:16.610268Z",
     "start_time": "2025-03-09T21:23:16.606236Z"
    }
   },
   "cell_type": "code",
   "source": [
    "def deseneaza_grafic(capat_interval1, capat_interval2, coordonata_x, coordonata_y, x_maxim, y_maxim):\n",
    "    \"\"\"\n",
    "    vizualizare rezultate hillclimbing\n",
    "    :param capat_interval1:\n",
    "    :param capat_interval2:\n",
    "    :param coordonata_x:\n",
    "    :param coordonata_y:\n",
    "    :param x_maxim:\n",
    "    :param y_maxim:\n",
    "    :return:\n",
    "    \"\"\"\n",
    "\n",
    "    x_points = np.arange(capat_interval1, capat_interval2, 0.01)\n",
    "    grafic.plot(x_points, [f_obiectiv(i) for i in x_points], 'k-', coordonata_x, coordonata_y, 'bo')\n",
    "    grafic.plot(x_maxim, y_maxim, 'r*', markersize = 20)\n",
    "    grafic.show()"
   ],
   "id": "cc8213eed3d3a0f7",
   "outputs": [],
   "execution_count": 24
  },
  {
   "metadata": {
    "ExecuteTime": {
     "end_time": "2025-03-09T21:25:24.800495Z",
     "start_time": "2025-03-09T21:25:24.756103Z"
    }
   },
   "cell_type": "code",
   "source": [
    "def hillclimbing(capat_interval1, capat_interval2, nr_puncte_initiale, nr_vecini_pe_fiecare_directie, distanta_dintre_vecini):\n",
    "    \"\"\"\n",
    "    implementare hillclimbing pentru gasirea maximului unei functii de o variabila\n",
    "    :param capat_interval1:\n",
    "    :param capat_interval2:\n",
    "    :param nr_puncte_initiale:\n",
    "    :param nr_vecini_pe_fiecare_directie:\n",
    "    :param distanta_dintre_vecini:\n",
    "    :return x: punctul de maxim\n",
    "    :return fx: valoarea maxima a functiei (in punctul y)\n",
    "    \"\"\"\n",
    "\n",
    "    # initializare coordonate cu liste goale\n",
    "    coord_x = [None] * nr_puncte_initiale\n",
    "    coord_y = [None] * nr_puncte_initiale\n",
    "\n",
    "    # iteram prin fiecare punct initial\n",
    "    for i in range(nr_puncte_initiale):\n",
    "        # aplicam hillclimbing pt. punctul initial curent generat aleator\n",
    "        punct_aleator = np.random.uniform(capat_interval1, capat_interval2)\n",
    "        punct_maxim_local = False\n",
    "        while not punct_maxim_local:\n",
    "            nr_vecini, nr_valori = calculare_vecini(punct_aleator, nr_vecini_pe_fiecare_directie,\n",
    "                                                    distanta_dintre_vecini ,capat_interval1, capat_interval2)\n",
    "            valoare_maxima = max(nr_valori)\n",
    "            pozitie = nr_valori.index(valoare_maxima)\n",
    "            vector_maxim = nr_vecini[pozitie]\n",
    "\n",
    "            if valoare_maxima > f_obiectiv(punct_aleator):\n",
    "                punct_aleator = vector_maxim\n",
    "            else:\n",
    "                punct_maxim_local = True\n",
    "\n",
    "        coord_x[i] = punct_aleator\n",
    "        coord_y[i] = f_obiectiv(vector_maxim)\n",
    "\n",
    "    fx = max(coord_y)\n",
    "    pozitie = coord_y.index(fx)\n",
    "    x = coord_x[pozitie]\n",
    "\n",
    "    print(\"Valorea maxima calculata: \", fx)\n",
    "    print(\"Este atinsa in punctul: \", x)\n",
    "    deseneaza_grafic(capat_interval1, capat_interval2, coord_x, coord_y, x, fx)\n",
    "\n",
    "    return [x, fx]\n",
    "\n",
    "# exemplu apel\n",
    "x, fx = hillclimbing(1, 100, 5, 2, 0.01)"
   ],
   "id": "aef7cabd4f808777",
   "outputs": [
    {
     "name": "stdout",
     "output_type": "stream",
     "text": [
      "Valorea maxima calculata:  851234.9164824685\n",
      "Este atinsa in punctul:  94.33543561537367\n"
     ]
    },
    {
     "data": {
      "text/plain": [
       "<Figure size 640x480 with 1 Axes>"
      ],
      "image/png": "[encoded data removed]"
     },
     "metadata": {},
     "output_type": "display_data"
    }
   ],
   "execution_count": 39
  }
 ],
 "metadata": {
  "kernelspec": {
   "display_name": "Python 3",
   "language": "python",
   "name": "python3"
  },
  "language_info": {
   "codemirror_mode": {
    "name": "ipython",
    "version": 2
   },
   "file_extension": ".py",
   "mimetype": "text/x-python",
   "name": "python",
   "nbconvert_exporter": "python",
   "pygments_lexer": "ipython2",
   "version": "2.7.6"
  }
 },
 "nbformat": 4,
 "nbformat_minor": 5
}
