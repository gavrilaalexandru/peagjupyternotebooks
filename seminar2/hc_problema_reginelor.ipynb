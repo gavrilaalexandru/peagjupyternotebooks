{
 "cells": [
  {
   "metadata": {},
   "cell_type": "markdown",
   "source": [
    "# Algoritmul HillClimbing in Python\n",
    "Pentru problema celor N regine"
   ],
   "id": "7787ccf2656474ef"
  },
  {
   "metadata": {
    "ExecuteTime": {
     "end_time": "2025-03-09T23:12:17.406547Z",
     "start_time": "2025-03-09T23:12:17.199366Z"
    }
   },
   "cell_type": "code",
   "source": [
    "import numpy as np\n",
    "import matplotlib.pyplot as plt"
   ],
   "id": "f32963961d43947e",
   "outputs": [],
   "execution_count": 2
  },
  {
   "metadata": {
    "ExecuteTime": {
     "end_time": "2025-03-09T23:12:18.633436Z",
     "start_time": "2025-03-09T23:12:18.630405Z"
    }
   },
   "cell_type": "code",
   "source": [
    "def calculeaza_calitate(asezare_regine):\n",
    "    \"\"\"\n",
    "    Funcția obiectiv pentru problema reginelor - calculează câte perechi de regine nu se atacă\n",
    "\n",
    "    Parametri:\n",
    "    asezare_regine - permutarea care reprezintă așezarea reginelor (poziția i reprezintă coloana,\n",
    "                     valoarea asezare_regine[i] reprezintă rândul pe care se află regina)\n",
    "\n",
    "    Returnează:\n",
    "    calitate - numărul de perechi de regine care nu se atacă pe diagonală\n",
    "    \"\"\"\n",
    "    numar_regine = len(asezare_regine)\n",
    "    # Numărul maxim de perechi de regine care nu se atacă (dacă nicio pereche nu s-ar ataca)\n",
    "    calitate = numar_regine * (numar_regine - 1) / 2\n",
    "\n",
    "    # Verificăm atacurile pe diagonală (atacurile pe linii și coloane sunt eliminate prin natura permutării)\n",
    "    for i in range(numar_regine):\n",
    "        for j in range(i + 1, numar_regine):\n",
    "            # Verificăm dacă reginele se atacă pe diagonală\n",
    "            if abs(i - j) == abs(asezare_regine[i] - asezare_regine[j]):\n",
    "                calitate = calitate - 1\n",
    "\n",
    "    return calitate"
   ],
   "id": "5a41ee0462c6db5b",
   "outputs": [],
   "execution_count": 3
  },
  {
   "metadata": {
    "ExecuteTime": {
     "end_time": "2025-03-09T23:12:20.564999Z",
     "start_time": "2025-03-09T23:12:20.561496Z"
    }
   },
   "cell_type": "code",
   "source": [
    "def genereaza_vecini(permutare):\n",
    "    \"\"\"\n",
    "    Generează toate permutările vecine prin aplicarea câte unei transpozitii\n",
    "\n",
    "    Parametri:\n",
    "    permutare - permutarea curentă de regine\n",
    "\n",
    "    Returnează:\n",
    "    lista_vecini - lista de permutări vecine obținute prin transpozițiile tuturor perechilor posibile\n",
    "\n",
    "    Notă: O transpozitie înseamnă că reginele din pozițiile (i, permutare[i]) și (j, permutare[j])\n",
    "    sunt mutate în pozițiile (i, permutare[j]) respectiv (j, permutare[i])\n",
    "    \"\"\"\n",
    "    lista_vecini = []\n",
    "    numar_regine = len(permutare)\n",
    "\n",
    "    # Generăm toate transpozițiile posibile (schimbarea a două regine)\n",
    "    for i in range(numar_regine):\n",
    "        for j in range(i + 1, numar_regine):\n",
    "            permutare_vecina = permutare.copy()\n",
    "            # Schimbăm pozițiile reginelor i și j\n",
    "            permutare_vecina[i] = permutare[j]\n",
    "            permutare_vecina[j] = permutare[i]\n",
    "            lista_vecini.append(permutare_vecina)\n",
    "\n",
    "    return lista_vecini"
   ],
   "id": "70240e50b1539980",
   "outputs": [],
   "execution_count": 4
  },
  {
   "metadata": {
    "ExecuteTime": {
     "end_time": "2025-03-09T23:12:28.156942Z",
     "start_time": "2025-03-09T23:12:28.152385Z"
    }
   },
   "cell_type": "code",
   "source": [
    "def vizualizeaza_solutie(solutie):\n",
    "    \"\"\"\n",
    "    Vizualizează așezarea reginelor pe tabla de șah\n",
    "\n",
    "    Parametri:\n",
    "    solutie - permutarea care definește așezarea reginelor\n",
    "    \"\"\"\n",
    "    numar_regine = len(solutie)\n",
    "\n",
    "    # Creăm figura\n",
    "    fig = plt.figure(figsize=(8, 8))\n",
    "    ax = fig.gca()\n",
    "\n",
    "    # Adăugăm regine pe tabla de șah\n",
    "    x = [i + 0.5 for i in range(numar_regine)]\n",
    "    y = [solutie[i] + 0.5 for i in range(numar_regine)]\n",
    "\n",
    "    # Desenăm tabla de șah\n",
    "    for i in range(numar_regine):\n",
    "        for j in range(numar_regine):\n",
    "            culoare = 'white' if (i + j) % 2 == 0 else 'gray'\n",
    "            ax.add_patch(plt.Rectangle((i, j), 1, 1, color=culoare))\n",
    "\n",
    "    # Plasăm reginele\n",
    "    plt.plot(x, y, 'ro', markersize=15, label='Regine')\n",
    "\n",
    "    # Adăugăm detalii la grafic\n",
    "    plt.xticks(range(numar_regine + 1))\n",
    "    plt.yticks(range(numar_regine + 1))\n",
    "    plt.grid(True, which='both', color='k', linestyle='-', linewidth=1)\n",
    "    plt.title(f'Așezarea optimă pentru {numar_regine} regine')\n",
    "    ax.set_aspect('equal')\n",
    "    plt.legend()\n",
    "\n",
    "    plt.show()"
   ],
   "id": "f4cb25b3ccbc78d4",
   "outputs": [],
   "execution_count": 6
  },
  {
   "metadata": {
    "ExecuteTime": {
     "end_time": "2025-03-09T23:12:30.045548Z",
     "start_time": "2025-03-09T23:12:29.959520Z"
    }
   },
   "cell_type": "code",
   "source": [
    "def hill_climbing_regine(numar_regine, numar_maxim_iteratii):\n",
    "    \"\"\"\n",
    "    Implementarea algoritmului Hill Climbing pentru rezolvarea problemei reginelor\n",
    "\n",
    "    Parametri:\n",
    "    numar_regine - numărul de regine de plasat pe tablă\n",
    "    numar_maxim_iteratii - numărul maxim de iterații (puncte de start)\n",
    "\n",
    "    Returnează:\n",
    "    permutare_optima - cea mai bună permutare obținută\n",
    "    calitate_optima - calitatea permutării obținute (numărul de perechi de regine care nu se atacă)\n",
    "\n",
    "    Exemple de apel:\n",
    "    permutare, calitate = hill_climbing_regine(8, 2)\n",
    "    permutare, calitate = hill_climbing_regine(14, 5)\n",
    "    permutare, calitate = hill_climbing_regine(24, 10)\n",
    "    \"\"\"\n",
    "    # Valoarea optimă cunoscută: toate perechile de regine nu se atacă\n",
    "    calitate_maxima_posibila = numar_regine * (numar_regine - 1) / 2\n",
    "\n",
    "    # Inițializăm cea mai bună soluție găsită\n",
    "    calitate_optima = -1\n",
    "    permutare_optima = None\n",
    "\n",
    "    # Numărul de puncte de start încercate\n",
    "    numar_iteratii = 0\n",
    "\n",
    "    # Continuăm până la atingerea calității optime sau consumarea iterațiilor\n",
    "    while calitate_optima < calitate_maxima_posibila and numar_iteratii < numar_maxim_iteratii:\n",
    "        # Generăm o permutare aleatoare ca punct de start\n",
    "        permutare_curenta = np.random.permutation(numar_regine).tolist()\n",
    "        calitate_curenta = calculeaza_calitate(permutare_curenta)\n",
    "\n",
    "        # Aplicăm algoritmul Hill Climbing pentru acest punct de start\n",
    "        am_ajuns_la_maxim_local = False\n",
    "\n",
    "        while not am_ajuns_la_maxim_local:\n",
    "            # Generăm toți vecinii permutării curente\n",
    "            vecini = genereaza_vecini(permutare_curenta)\n",
    "\n",
    "            # Căutăm cel mai bun vecin\n",
    "            calitate_maxima_vecin = -1\n",
    "            pozitie_vecin_maxim = -1\n",
    "\n",
    "            for i, vecin in enumerate(vecini):\n",
    "                calitate_vecin = calculeaza_calitate(vecin)\n",
    "                if calitate_vecin > calitate_maxima_vecin:\n",
    "                    calitate_maxima_vecin = calitate_vecin\n",
    "                    pozitie_vecin_maxim = i\n",
    "\n",
    "            # Dacă cel mai bun vecin e mai bun decât punctul curent, el devine punct curent\n",
    "            if calitate_maxima_vecin > calitate_curenta:\n",
    "                permutare_curenta = vecini[pozitie_vecin_maxim]\n",
    "                calitate_curenta = calitate_maxima_vecin\n",
    "            else:\n",
    "                # Am ajuns la un maxim local\n",
    "                am_ajuns_la_maxim_local = True\n",
    "\n",
    "        # Verificăm dacă acest maxim local este mai bun decât cel mai bun găsit până acum\n",
    "        if calitate_curenta > calitate_optima:\n",
    "            calitate_optima = calitate_curenta\n",
    "            permutare_optima = permutare_curenta\n",
    "\n",
    "        numar_iteratii += 1\n",
    "\n",
    "    # Afișăm rezultatele\n",
    "    if calitate_optima < calitate_maxima_posibila:\n",
    "        print(f\"Atenție: cea mai bună permutare găsită nu este corectă! {calitate_optima} < {calitate_maxima_posibila}\")\n",
    "    else:\n",
    "        print(\"Succes! Cea mai bună permutare găsită este corectă!\")\n",
    "\n",
    "    print(f\"Cea mai bună așezare găsită are valoarea: {calitate_optima}\")\n",
    "    print(f\"Cea mai bună permutare găsită este: {permutare_optima}\")\n",
    "\n",
    "    # Vizualizăm soluția\n",
    "    vizualizeaza_solutie(permutare_optima)\n",
    "\n",
    "    return [permutare_optima, calitate_optima]\n",
    "\n",
    "# exemplu apel\n",
    "permutare, calitate = hill_climbing_regine(8, 5)"
   ],
   "id": "25d6333dc41d2ba5",
   "outputs": [
    {
     "name": "stdout",
     "output_type": "stream",
     "text": [
      "Succes! Cea mai bună permutare găsită este corectă!\n",
      "Cea mai bună așezare găsită are valoarea: 28.0\n",
      "Cea mai bună permutare găsită este: [5, 2, 0, 6, 4, 7, 1, 3]\n"
     ]
    },
    {
     "data": {
      "text/plain": [
       "<Figure size 800x800 with 1 Axes>"
      ],
      "image/png": "[encoded data removed]"
     },
     "metadata": {},
     "output_type": "display_data"
    }
   ],
   "execution_count": 7
  }
 ],
 "metadata": {
  "kernelspec": {
   "display_name": "Python 3",
   "language": "python",
   "name": "python3"
  },
  "language_info": {
   "codemirror_mode": {
    "name": "ipython",
    "version": 2
   },
   "file_extension": ".py",
   "mimetype": "text/x-python",
   "name": "python",
   "nbconvert_exporter": "python",
   "pygments_lexer": "ipython2",
   "version": "2.7.6"
  }
 },
 "nbformat": 4,
 "nbformat_minor": 5
}
