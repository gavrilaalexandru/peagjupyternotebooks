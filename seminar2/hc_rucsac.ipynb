{
 "cells": [
  {
   "metadata": {},
   "cell_type": "markdown",
   "source": [
    "# Algoritmul HillClimbing in Python\n",
    "Pentru problema rucsacului"
   ],
   "id": "a943b6e2706e1c5f"
  },
  {
   "metadata": {
    "ExecuteTime": {
     "end_time": "2025-03-09T23:20:42.960086Z",
     "start_time": "2025-03-09T23:20:42.921799Z"
    }
   },
   "cell_type": "code",
   "source": "import numpy as np",
   "id": "93c24d838799337b",
   "outputs": [],
   "execution_count": 1
  },
  {
   "metadata": {
    "ExecuteTime": {
     "end_time": "2025-03-09T23:20:43.492579Z",
     "start_time": "2025-03-09T23:20:43.489497Z"
    }
   },
   "cell_type": "code",
   "source": [
    "def calculeaza_calitate(selectie, costuri, valori, capacitate_maxima):\n",
    "    \"\"\"\n",
    "    Verifică fezabilitatea unei soluții și calculează valoarea funcției obiectiv.\n",
    "\n",
    "    Parametri:\n",
    "    - selectie: Lista binară (0/1) reprezentând obiectele selectate\n",
    "    - costuri: Lista costurilor asociate obiectelor\n",
    "    - valori: Lista valorilor asociate obiectelor\n",
    "    - capacitate_maxima: Capacitatea maximă a rucsacului\n",
    "\n",
    "    Returnează:\n",
    "    - este_fezabil: Boolean (True dacă soluția este fezabilă, False în caz contrar)\n",
    "    - valoare_totala: Suma valorilor obiectelor selectate\n",
    "    \"\"\"\n",
    "    cost_total = np.dot(selectie, costuri)\n",
    "    valoare_totala = np.dot(selectie, valori)\n",
    "\n",
    "    return cost_total <= capacitate_maxima, valoare_totala"
   ],
   "id": "f25db692061aa312",
   "outputs": [],
   "execution_count": 2
  },
  {
   "metadata": {
    "ExecuteTime": {
     "end_time": "2025-03-09T23:20:45.029213Z",
     "start_time": "2025-03-09T23:20:45.024883Z"
    }
   },
   "cell_type": "code",
   "source": [
    "def genereaza_vecini(selectie_curenta, costuri, valori, capacitate_maxima):\n",
    "    \"\"\"\n",
    "    Calculează toți vecinii fezabili ai unei soluții și calitățile lor.\n",
    "\n",
    "    Un vecin este obținut prin modificarea stării unui singur obiect\n",
    "    (adăugare sau eliminare).\n",
    "\n",
    "    Parametri:\n",
    "    - selectie_curenta: Lista binară (0/1) reprezentând obiectele selectate\n",
    "    - costuri: Lista costurilor asociate obiectelor\n",
    "    - valori: Lista valorilor asociate obiectelor\n",
    "    - capacitate_maxima: Capacitatea maximă a rucsacului\n",
    "\n",
    "    Returnează:\n",
    "    - lista_vecini: Matrice de vecini fezabili\n",
    "    - calitati_vecini: Lista valorilor funcției obiectiv pentru fiecare vecin\n",
    "    \"\"\"\n",
    "    n = selectie_curenta.size\n",
    "    lista_vecini = np.zeros(0, dtype=\"int\")\n",
    "    calitati_vecini = np.zeros(0, dtype=\"float\")\n",
    "\n",
    "    for i in range(n):\n",
    "        vecin = selectie_curenta.copy()\n",
    "        vecin[i] = not selectie_curenta[i]  # Schimbă starea unui singur obiect (0->1 sau 1->0)\n",
    "\n",
    "        este_fezabil, valoare = calculeaza_calitate(vecin, costuri, valori, capacitate_maxima)\n",
    "\n",
    "        if este_fezabil:\n",
    "            lista_vecini = np.append(lista_vecini, vecin)\n",
    "            calitati_vecini = np.append(calitati_vecini, valoare)\n",
    "\n",
    "    # Reorganizează vectorul de vecini într-o matrice\n",
    "    if len(lista_vecini) > 0:\n",
    "        dim = len(lista_vecini)\n",
    "        lista_vecini = lista_vecini.reshape(round(dim/n), n)\n",
    "\n",
    "    return lista_vecini, calitati_vecini"
   ],
   "id": "165188bf98662e8c",
   "outputs": [],
   "execution_count": 3
  },
  {
   "metadata": {
    "ExecuteTime": {
     "end_time": "2025-03-09T23:20:46.770775Z",
     "start_time": "2025-03-09T23:20:46.742885Z"
    }
   },
   "cell_type": "code",
   "source": [
    "def hill_climbing_rucsac(fisier_costuri, fisier_valori, numar_iteratii, capacitate_maxima):\n",
    "    \"\"\"\n",
    "    Implementare a algoritmului Hill Climbing pentru problema rucsacului 0-1.\n",
    "\n",
    "    Parametri:\n",
    "    - fisier_costuri: Calea către fișierul cu costurile obiectelor\n",
    "    - fisier_valori: Calea către fișierul cu valorile obiectelor\n",
    "    - numar_iteratii: Numărul de execuții independente ale algoritmului\n",
    "    - capacitate_maxima: Capacitatea maximă a rucsacului\n",
    "\n",
    "    Returnează:\n",
    "    - solutie_optima: Lista binară reprezentând cea mai bună selecție de obiecte găsită\n",
    "    - valoare_maxima: Valoarea maximă obținută\n",
    "    - toate_solutiile: Toate soluțiile locale găsite în fiecare execuție\n",
    "    - toate_valorile: Valorile corespunzătoare fiecărei soluții locale\n",
    "\n",
    "    Exemple de apel:\n",
    "    sol, val, P, C = hill_climbing_rucsac(\"cost.txt\", \"valoare.txt\", 70, 50)  # max 81\n",
    "    sol, val, P, C = hill_climbing_rucsac(\"cost1.txt\", \"valoare1.txt\", 90, 50)  # max 108\n",
    "    sol, val, P, C = hill_climbing_rucsac(\"cost2.txt\", \"valoare2.txt\", 1000, 56.6)  # max 128.2\n",
    "    \"\"\"\n",
    "    # Citirea datelor din fișiere\n",
    "    costuri = np.genfromtxt(fisier_costuri)\n",
    "    valori = np.genfromtxt(fisier_valori)\n",
    "    n = costuri.size  # Numărul de obiecte\n",
    "\n",
    "    # Inițializare structuri pentru stocarea rezultatelor\n",
    "    toate_solutiile = np.zeros([numar_iteratii, n], dtype=\"int\")\n",
    "    toate_valorile = np.zeros(numar_iteratii, dtype=\"float\")\n",
    "\n",
    "    # Execută algoritmul Hill Climbing de mai multe ori\n",
    "    for iteratie in range(numar_iteratii):\n",
    "        # Generează un punct de start fezabil aleator\n",
    "        am_gasit_punct_start = False\n",
    "        while not am_gasit_punct_start:\n",
    "            selectie_curenta = np.random.randint(0, 2, n)  # Generează un vector binar aleator\n",
    "            este_fezabil, valoare_curenta = calculeaza_calitate(selectie_curenta, costuri, valori, capacitate_maxima)\n",
    "            am_gasit_punct_start = este_fezabil\n",
    "\n",
    "        # Execută algoritmul Hill Climbing\n",
    "        am_ajuns_la_maxim_local = False\n",
    "        while not am_ajuns_la_maxim_local:\n",
    "            # Generează și evaluează toți vecinii\n",
    "            vecini, calitati = genereaza_vecini(selectie_curenta, costuri, valori, capacitate_maxima)\n",
    "\n",
    "            if calitati.size == 0:\n",
    "                # Nu există vecini fezabili\n",
    "                am_ajuns_la_maxim_local = True\n",
    "            else:\n",
    "                # Găsește cel mai bun vecin\n",
    "                index_vecin_maxim = np.argmax(calitati)\n",
    "                vecin_maxim = vecini[index_vecin_maxim]\n",
    "                valoare_vecin_maxim = calitati[index_vecin_maxim]\n",
    "\n",
    "                if valoare_vecin_maxim > valoare_curenta:\n",
    "                    # Dacă am găsit un vecin mai bun, continuăm cu el\n",
    "                    selectie_curenta = vecin_maxim\n",
    "                    valoare_curenta = valoare_vecin_maxim\n",
    "                else:\n",
    "                    # Altfel, am ajuns la un maxim local\n",
    "                    am_ajuns_la_maxim_local = True\n",
    "\n",
    "        # Salvează soluția locală găsită\n",
    "        toate_solutiile[iteratie] = selectie_curenta.copy()\n",
    "        toate_valorile[iteratie] = valoare_curenta\n",
    "\n",
    "    # Identifică cea mai bună soluție găsită\n",
    "    valoare_maxima = np.max(toate_valorile)\n",
    "    index_maxim = np.argmax(toate_valorile)\n",
    "    solutie_optima = toate_solutiile[index_maxim]\n",
    "\n",
    "    print(\"Cea mai bună valoare calculată:\", valoare_maxima)\n",
    "    print(\"Selecția optimă de obiecte:\", solutie_optima)\n",
    "\n",
    "    return solutie_optima, valoare_maxima, toate_solutiile, toate_valorile\n",
    "\n",
    "# exemplu apel\n",
    "solutie1, valoare1, toate_solutiile1, toate_valorile1 = hill_climbing_rucsac(\"cost.txt\", \"valoare.txt\", 70, 50)"
   ],
   "id": "16020bbeab79fc10",
   "outputs": [
    {
     "name": "stdout",
     "output_type": "stream",
     "text": [
      "Cea mai bună valoare calculată: 80.0\n",
      "Selecția optimă de obiecte: [0 0 0 0 0 0 1 1 1 1 0 0 0 0 1]\n"
     ]
    }
   ],
   "execution_count": 4
  }
 ],
 "metadata": {
  "kernelspec": {
   "display_name": "Python 3",
   "language": "python",
   "name": "python3"
  },
  "language_info": {
   "codemirror_mode": {
    "name": "ipython",
    "version": 2
   },
   "file_extension": ".py",
   "mimetype": "text/x-python",
   "name": "python",
   "nbconvert_exporter": "python",
   "pygments_lexer": "ipython2",
   "version": "2.7.6"
  }
 },
 "nbformat": 4,
 "nbformat_minor": 5
}
